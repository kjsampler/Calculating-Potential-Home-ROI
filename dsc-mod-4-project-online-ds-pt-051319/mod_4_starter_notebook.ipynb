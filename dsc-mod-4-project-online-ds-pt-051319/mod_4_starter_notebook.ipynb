{
 "cells": [
  {
   "cell_type": "code",
   "execution_count": 1,
   "metadata": {},
   "outputs": [],
   "source": [
    "#Notes: \n",
    "#Use for loop for order on ARIMA model\n",
    "#ARIMA steps:\n",
    "## plot data\n",
    "## dickey fuller test\n",
    "## remove trends\n",
    "## ACF, PACF\n",
    "## write for loop to determine order \n",
    "## "
   ]
  },
  {
   "cell_type": "code",
   "execution_count": null,
   "metadata": {},
   "outputs": [],
   "source": [
    "#Steps for each zipcode:\n",
    "## process data\n",
    "## plot data\n",
    "## dickey fuller test\n",
    "## remove trends\n",
    "## plot acf, pacf\n",
    "## run for loop \n",
    "## make 5 year prediction\n",
    "## run percentage"
   ]
  },
  {
   "cell_type": "markdown",
   "metadata": {},
   "source": [
    "# Mod 4 Project - Starter Notebook\n",
    "\n",
    "This notebook has been provided to you so that you can make use of the following starter code to help with the trickier parts of preprocessing the Zillow dataset. \n",
    "\n",
    "The notebook contains a rough outline the general order you'll likely want to take in this project. You'll notice that most of the areas are left blank. This is so that it's more obvious exactly when you should make use of the starter code provided for preprocessing. \n",
    "\n",
    "**_NOTE:_** The number of empty cells are not meant to infer how much or how little code should be involved in any given step--we've just provided a few for your convenience. Add, delete, and change things around in this notebook as needed!\n",
    "\n",
    "# Some Notes Before Starting\n",
    "\n",
    "This project will be one of the more challenging projects you complete in this program. This is because working with Time Series data is a bit different than working with regular datasets. In order to make this a bit less frustrating and help you understand what you need to do (and when you need to do it), we'll quickly review the dataset formats that you'll encounter in this project. \n",
    "\n",
    "## Wide Format vs Long Format\n",
    "\n",
    "If you take a look at the format of the data in `zillow_data.csv`, you'll notice that the actual Time Series values are stored as separate columns. Here's a sample: \n",
    "\n",
    "<img src='~/../images/df_head.png'>\n",
    "\n",
    "You'll notice that the first seven columns look like any other dataset you're used to working with. However, column 8 refers to the median housing sales values for April 1996, column 9 for May 1996, and so on. This This is called **_Wide Format_**, and it makes the dataframe intuitive and easy to read. However, there are problems with this format when it comes to actually learning from the data, because the data only makes sense if you know the name of the column that the data can be found it. Since column names are metadata, our algorithms will miss out on what dates each value is for. This means that before we pass this data to our ARIMA model, we'll need to reshape our dataset to **_Long Format_**. Reshaped into long format, the dataframe above would now look like:\n",
    "\n",
    "<img src='~/../images/melted1.png'>\n",
    "\n",
    "There are now many more rows in this dataset--one for each unique time and zipcode combination in the data! Once our dataset is in this format, we'll be able to train an ARIMA model on it. The method used to convert from Wide to Long is `pd.melt()`, and it is common to refer to our dataset as 'melted' after the transition to denote that it is in long format. \n",
    "\n",
    "# Helper Functions Provided\n",
    "\n",
    "Melting a dataset can be tricky if you've never done it before, so you'll see that we have provided a sample function, `melt_data()`, to help you with this step below. Also provided is:\n",
    "\n",
    "* `get_datetimes()`, a function to deal with converting the column values for datetimes as a pandas series of datetime objects\n",
    "* Some good parameters for matplotlib to help make your visualizations more readable. \n",
    "\n",
    "Good luck!\n",
    "\n",
    "\n",
    "# Step 1: Load the Data/Filtering for Chosen Zipcodes"
   ]
  },
  {
   "cell_type": "code",
   "execution_count": 182,
   "metadata": {},
   "outputs": [],
   "source": [
    "import pandas as pd\n",
    "import matplotlib.pyplot as plt\n",
    "import numpy as np\n",
    "from statsmodels.tsa.stattools import adfuller\n",
    "from statsmodels.tsa.arima_model import ARIMA\n",
    "from sklearn.metrics import mean_squared_error"
   ]
  },
  {
   "cell_type": "code",
   "execution_count": 3,
   "metadata": {},
   "outputs": [
    {
     "data": {
      "text/html": [
       "<div>\n",
       "<style scoped>\n",
       "    .dataframe tbody tr th:only-of-type {\n",
       "        vertical-align: middle;\n",
       "    }\n",
       "\n",
       "    .dataframe tbody tr th {\n",
       "        vertical-align: top;\n",
       "    }\n",
       "\n",
       "    .dataframe thead th {\n",
       "        text-align: right;\n",
       "    }\n",
       "</style>\n",
       "<table border=\"1\" class=\"dataframe\">\n",
       "  <thead>\n",
       "    <tr style=\"text-align: right;\">\n",
       "      <th></th>\n",
       "      <th>RegionID</th>\n",
       "      <th>RegionName</th>\n",
       "      <th>City</th>\n",
       "      <th>State</th>\n",
       "      <th>Metro</th>\n",
       "      <th>CountyName</th>\n",
       "      <th>SizeRank</th>\n",
       "      <th>1996-04</th>\n",
       "      <th>1996-05</th>\n",
       "      <th>1996-06</th>\n",
       "      <th>...</th>\n",
       "      <th>2017-07</th>\n",
       "      <th>2017-08</th>\n",
       "      <th>2017-09</th>\n",
       "      <th>2017-10</th>\n",
       "      <th>2017-11</th>\n",
       "      <th>2017-12</th>\n",
       "      <th>2018-01</th>\n",
       "      <th>2018-02</th>\n",
       "      <th>2018-03</th>\n",
       "      <th>2018-04</th>\n",
       "    </tr>\n",
       "  </thead>\n",
       "  <tbody>\n",
       "    <tr>\n",
       "      <th>0</th>\n",
       "      <td>84654</td>\n",
       "      <td>60657</td>\n",
       "      <td>Chicago</td>\n",
       "      <td>IL</td>\n",
       "      <td>Chicago</td>\n",
       "      <td>Cook</td>\n",
       "      <td>1</td>\n",
       "      <td>334200.0</td>\n",
       "      <td>335400.0</td>\n",
       "      <td>336500.0</td>\n",
       "      <td>...</td>\n",
       "      <td>1005500</td>\n",
       "      <td>1007500</td>\n",
       "      <td>1007800</td>\n",
       "      <td>1009600</td>\n",
       "      <td>1013300</td>\n",
       "      <td>1018700</td>\n",
       "      <td>1024400</td>\n",
       "      <td>1030700</td>\n",
       "      <td>1033800</td>\n",
       "      <td>1030600</td>\n",
       "    </tr>\n",
       "    <tr>\n",
       "      <th>1</th>\n",
       "      <td>90668</td>\n",
       "      <td>75070</td>\n",
       "      <td>McKinney</td>\n",
       "      <td>TX</td>\n",
       "      <td>Dallas-Fort Worth</td>\n",
       "      <td>Collin</td>\n",
       "      <td>2</td>\n",
       "      <td>235700.0</td>\n",
       "      <td>236900.0</td>\n",
       "      <td>236700.0</td>\n",
       "      <td>...</td>\n",
       "      <td>308000</td>\n",
       "      <td>310000</td>\n",
       "      <td>312500</td>\n",
       "      <td>314100</td>\n",
       "      <td>315000</td>\n",
       "      <td>316600</td>\n",
       "      <td>318100</td>\n",
       "      <td>319600</td>\n",
       "      <td>321100</td>\n",
       "      <td>321800</td>\n",
       "    </tr>\n",
       "    <tr>\n",
       "      <th>2</th>\n",
       "      <td>91982</td>\n",
       "      <td>77494</td>\n",
       "      <td>Katy</td>\n",
       "      <td>TX</td>\n",
       "      <td>Houston</td>\n",
       "      <td>Harris</td>\n",
       "      <td>3</td>\n",
       "      <td>210400.0</td>\n",
       "      <td>212200.0</td>\n",
       "      <td>212200.0</td>\n",
       "      <td>...</td>\n",
       "      <td>321000</td>\n",
       "      <td>320600</td>\n",
       "      <td>320200</td>\n",
       "      <td>320400</td>\n",
       "      <td>320800</td>\n",
       "      <td>321200</td>\n",
       "      <td>321200</td>\n",
       "      <td>323000</td>\n",
       "      <td>326900</td>\n",
       "      <td>329900</td>\n",
       "    </tr>\n",
       "    <tr>\n",
       "      <th>3</th>\n",
       "      <td>84616</td>\n",
       "      <td>60614</td>\n",
       "      <td>Chicago</td>\n",
       "      <td>IL</td>\n",
       "      <td>Chicago</td>\n",
       "      <td>Cook</td>\n",
       "      <td>4</td>\n",
       "      <td>498100.0</td>\n",
       "      <td>500900.0</td>\n",
       "      <td>503100.0</td>\n",
       "      <td>...</td>\n",
       "      <td>1289800</td>\n",
       "      <td>1287700</td>\n",
       "      <td>1287400</td>\n",
       "      <td>1291500</td>\n",
       "      <td>1296600</td>\n",
       "      <td>1299000</td>\n",
       "      <td>1302700</td>\n",
       "      <td>1306400</td>\n",
       "      <td>1308500</td>\n",
       "      <td>1307000</td>\n",
       "    </tr>\n",
       "    <tr>\n",
       "      <th>4</th>\n",
       "      <td>93144</td>\n",
       "      <td>79936</td>\n",
       "      <td>El Paso</td>\n",
       "      <td>TX</td>\n",
       "      <td>El Paso</td>\n",
       "      <td>El Paso</td>\n",
       "      <td>5</td>\n",
       "      <td>77300.0</td>\n",
       "      <td>77300.0</td>\n",
       "      <td>77300.0</td>\n",
       "      <td>...</td>\n",
       "      <td>119100</td>\n",
       "      <td>119400</td>\n",
       "      <td>120000</td>\n",
       "      <td>120300</td>\n",
       "      <td>120300</td>\n",
       "      <td>120300</td>\n",
       "      <td>120300</td>\n",
       "      <td>120500</td>\n",
       "      <td>121000</td>\n",
       "      <td>121500</td>\n",
       "    </tr>\n",
       "  </tbody>\n",
       "</table>\n",
       "<p>5 rows × 272 columns</p>\n",
       "</div>"
      ],
      "text/plain": [
       "   RegionID  RegionName      City State              Metro CountyName  \\\n",
       "0     84654       60657   Chicago    IL            Chicago       Cook   \n",
       "1     90668       75070  McKinney    TX  Dallas-Fort Worth     Collin   \n",
       "2     91982       77494      Katy    TX            Houston     Harris   \n",
       "3     84616       60614   Chicago    IL            Chicago       Cook   \n",
       "4     93144       79936   El Paso    TX            El Paso    El Paso   \n",
       "\n",
       "   SizeRank   1996-04   1996-05   1996-06  ...  2017-07  2017-08  2017-09  \\\n",
       "0         1  334200.0  335400.0  336500.0  ...  1005500  1007500  1007800   \n",
       "1         2  235700.0  236900.0  236700.0  ...   308000   310000   312500   \n",
       "2         3  210400.0  212200.0  212200.0  ...   321000   320600   320200   \n",
       "3         4  498100.0  500900.0  503100.0  ...  1289800  1287700  1287400   \n",
       "4         5   77300.0   77300.0   77300.0  ...   119100   119400   120000   \n",
       "\n",
       "   2017-10  2017-11  2017-12  2018-01  2018-02  2018-03  2018-04  \n",
       "0  1009600  1013300  1018700  1024400  1030700  1033800  1030600  \n",
       "1   314100   315000   316600   318100   319600   321100   321800  \n",
       "2   320400   320800   321200   321200   323000   326900   329900  \n",
       "3  1291500  1296600  1299000  1302700  1306400  1308500  1307000  \n",
       "4   120300   120300   120300   120300   120500   121000   121500  \n",
       "\n",
       "[5 rows x 272 columns]"
      ]
     },
     "execution_count": 3,
     "metadata": {},
     "output_type": "execute_result"
    }
   ],
   "source": [
    "df = pd.read_csv(\"zillow_data.csv\")\n",
    "df.head()"
   ]
  },
  {
   "cell_type": "code",
   "execution_count": 4,
   "metadata": {},
   "outputs": [
    {
     "data": {
      "text/plain": [
       "14723"
      ]
     },
     "execution_count": 4,
     "metadata": {},
     "output_type": "execute_result"
    }
   ],
   "source": [
    "df['RegionName'].nunique()"
   ]
  },
  {
   "cell_type": "markdown",
   "metadata": {},
   "source": [
    "Regions of Colorado: \n",
    "1. 81521\n",
    "2. 81524 \n",
    "3. 81525 \n",
    "4. 81507\n",
    "5. 81505\n",
    "6. 81501\n",
    "7. 81401\n",
    "8. 81301\n",
    "9. 81321\n",
    "10. 80206\n",
    "11. 80011\n",
    "12. 80303\n",
    "13. 80301\n",
    "14. 80302\n",
    "15. 80903"
   ]
  },
  {
   "cell_type": "code",
   "execution_count": 6,
   "metadata": {},
   "outputs": [],
   "source": [
    "colorado = pd.DataFrame()"
   ]
  },
  {
   "cell_type": "code",
   "execution_count": 7,
   "metadata": {},
   "outputs": [],
   "source": [
    "zipcodes = [81521, 81524, 81525, 81507, 81505, 81501, 81401, 81301, 81321, 80206,\n",
    "           80011, 80303, 80301, 80302, 80903]"
   ]
  },
  {
   "cell_type": "code",
   "execution_count": 38,
   "metadata": {},
   "outputs": [
    {
     "data": {
      "text/html": [
       "<div>\n",
       "<style scoped>\n",
       "    .dataframe tbody tr th:only-of-type {\n",
       "        vertical-align: middle;\n",
       "    }\n",
       "\n",
       "    .dataframe tbody tr th {\n",
       "        vertical-align: top;\n",
       "    }\n",
       "\n",
       "    .dataframe thead th {\n",
       "        text-align: right;\n",
       "    }\n",
       "</style>\n",
       "<table border=\"1\" class=\"dataframe\">\n",
       "  <thead>\n",
       "    <tr style=\"text-align: right;\">\n",
       "      <th></th>\n",
       "      <th>RegionName</th>\n",
       "      <th>City</th>\n",
       "      <th>State</th>\n",
       "      <th>Metro</th>\n",
       "      <th>CountyName</th>\n",
       "      <th>1996-04</th>\n",
       "      <th>1996-05</th>\n",
       "      <th>1996-06</th>\n",
       "      <th>1996-07</th>\n",
       "      <th>1996-08</th>\n",
       "      <th>...</th>\n",
       "      <th>2017-07</th>\n",
       "      <th>2017-08</th>\n",
       "      <th>2017-09</th>\n",
       "      <th>2017-10</th>\n",
       "      <th>2017-11</th>\n",
       "      <th>2017-12</th>\n",
       "      <th>2018-01</th>\n",
       "      <th>2018-02</th>\n",
       "      <th>2018-03</th>\n",
       "      <th>2018-04</th>\n",
       "    </tr>\n",
       "  </thead>\n",
       "  <tbody>\n",
       "    <tr>\n",
       "      <th>1201</th>\n",
       "      <td>80011</td>\n",
       "      <td>Aurora</td>\n",
       "      <td>CO</td>\n",
       "      <td>Denver</td>\n",
       "      <td>Arapahoe</td>\n",
       "      <td>90400.0</td>\n",
       "      <td>90600.0</td>\n",
       "      <td>90900.0</td>\n",
       "      <td>91100.0</td>\n",
       "      <td>91500.0</td>\n",
       "      <td>...</td>\n",
       "      <td>269000</td>\n",
       "      <td>271900</td>\n",
       "      <td>274900</td>\n",
       "      <td>277500</td>\n",
       "      <td>280300</td>\n",
       "      <td>283700</td>\n",
       "      <td>286400</td>\n",
       "      <td>289300</td>\n",
       "      <td>293400</td>\n",
       "      <td>296400</td>\n",
       "    </tr>\n",
       "    <tr>\n",
       "      <th>2330</th>\n",
       "      <td>80206</td>\n",
       "      <td>Denver</td>\n",
       "      <td>CO</td>\n",
       "      <td>Denver</td>\n",
       "      <td>Denver</td>\n",
       "      <td>182300.0</td>\n",
       "      <td>183000.0</td>\n",
       "      <td>183900.0</td>\n",
       "      <td>185000.0</td>\n",
       "      <td>186300.0</td>\n",
       "      <td>...</td>\n",
       "      <td>725400</td>\n",
       "      <td>725300</td>\n",
       "      <td>726400</td>\n",
       "      <td>729700</td>\n",
       "      <td>733200</td>\n",
       "      <td>738700</td>\n",
       "      <td>744900</td>\n",
       "      <td>751900</td>\n",
       "      <td>759500</td>\n",
       "      <td>765600</td>\n",
       "    </tr>\n",
       "    <tr>\n",
       "      <th>2652</th>\n",
       "      <td>81301</td>\n",
       "      <td>Durango</td>\n",
       "      <td>CO</td>\n",
       "      <td>Durango</td>\n",
       "      <td>La Plata</td>\n",
       "      <td>153900.0</td>\n",
       "      <td>153100.0</td>\n",
       "      <td>152500.0</td>\n",
       "      <td>152000.0</td>\n",
       "      <td>151900.0</td>\n",
       "      <td>...</td>\n",
       "      <td>445400</td>\n",
       "      <td>449700</td>\n",
       "      <td>455000</td>\n",
       "      <td>456600</td>\n",
       "      <td>450300</td>\n",
       "      <td>453300</td>\n",
       "      <td>464200</td>\n",
       "      <td>463700</td>\n",
       "      <td>452500</td>\n",
       "      <td>449200</td>\n",
       "    </tr>\n",
       "    <tr>\n",
       "      <th>3225</th>\n",
       "      <td>80302</td>\n",
       "      <td>Boulder</td>\n",
       "      <td>CO</td>\n",
       "      <td>Boulder</td>\n",
       "      <td>Boulder</td>\n",
       "      <td>296600.0</td>\n",
       "      <td>295400.0</td>\n",
       "      <td>294100.0</td>\n",
       "      <td>292800.0</td>\n",
       "      <td>291600.0</td>\n",
       "      <td>...</td>\n",
       "      <td>874100</td>\n",
       "      <td>877900</td>\n",
       "      <td>881500</td>\n",
       "      <td>885800</td>\n",
       "      <td>888700</td>\n",
       "      <td>889400</td>\n",
       "      <td>890700</td>\n",
       "      <td>897100</td>\n",
       "      <td>908000</td>\n",
       "      <td>915100</td>\n",
       "    </tr>\n",
       "    <tr>\n",
       "      <th>3363</th>\n",
       "      <td>80303</td>\n",
       "      <td>Boulder</td>\n",
       "      <td>CO</td>\n",
       "      <td>Boulder</td>\n",
       "      <td>Boulder</td>\n",
       "      <td>231100.0</td>\n",
       "      <td>230300.0</td>\n",
       "      <td>229500.0</td>\n",
       "      <td>228700.0</td>\n",
       "      <td>228000.0</td>\n",
       "      <td>...</td>\n",
       "      <td>710400</td>\n",
       "      <td>708000</td>\n",
       "      <td>707300</td>\n",
       "      <td>711400</td>\n",
       "      <td>714700</td>\n",
       "      <td>715600</td>\n",
       "      <td>717300</td>\n",
       "      <td>724100</td>\n",
       "      <td>732800</td>\n",
       "      <td>737100</td>\n",
       "    </tr>\n",
       "    <tr>\n",
       "      <th>3382</th>\n",
       "      <td>80301</td>\n",
       "      <td>Boulder</td>\n",
       "      <td>CO</td>\n",
       "      <td>Boulder</td>\n",
       "      <td>Boulder</td>\n",
       "      <td>218000.0</td>\n",
       "      <td>217600.0</td>\n",
       "      <td>217200.0</td>\n",
       "      <td>216700.0</td>\n",
       "      <td>216200.0</td>\n",
       "      <td>...</td>\n",
       "      <td>645000</td>\n",
       "      <td>646800</td>\n",
       "      <td>648800</td>\n",
       "      <td>651000</td>\n",
       "      <td>653000</td>\n",
       "      <td>656400</td>\n",
       "      <td>660000</td>\n",
       "      <td>663600</td>\n",
       "      <td>668000</td>\n",
       "      <td>670700</td>\n",
       "    </tr>\n",
       "    <tr>\n",
       "      <th>4448</th>\n",
       "      <td>81501</td>\n",
       "      <td>Grand Junction</td>\n",
       "      <td>CO</td>\n",
       "      <td>Grand Junction</td>\n",
       "      <td>Mesa</td>\n",
       "      <td>74500.0</td>\n",
       "      <td>75100.0</td>\n",
       "      <td>75800.0</td>\n",
       "      <td>76400.0</td>\n",
       "      <td>76900.0</td>\n",
       "      <td>...</td>\n",
       "      <td>175600</td>\n",
       "      <td>176700</td>\n",
       "      <td>177600</td>\n",
       "      <td>178000</td>\n",
       "      <td>178800</td>\n",
       "      <td>179800</td>\n",
       "      <td>180500</td>\n",
       "      <td>182100</td>\n",
       "      <td>184700</td>\n",
       "      <td>186300</td>\n",
       "    </tr>\n",
       "    <tr>\n",
       "      <th>4503</th>\n",
       "      <td>81401</td>\n",
       "      <td>Montrose</td>\n",
       "      <td>CO</td>\n",
       "      <td>Montrose</td>\n",
       "      <td>Montrose</td>\n",
       "      <td>97800.0</td>\n",
       "      <td>97600.0</td>\n",
       "      <td>97200.0</td>\n",
       "      <td>96600.0</td>\n",
       "      <td>95900.0</td>\n",
       "      <td>...</td>\n",
       "      <td>214300</td>\n",
       "      <td>215800</td>\n",
       "      <td>217200</td>\n",
       "      <td>218000</td>\n",
       "      <td>218100</td>\n",
       "      <td>217100</td>\n",
       "      <td>216700</td>\n",
       "      <td>214700</td>\n",
       "      <td>209700</td>\n",
       "      <td>204800</td>\n",
       "    </tr>\n",
       "    <tr>\n",
       "      <th>6410</th>\n",
       "      <td>80903</td>\n",
       "      <td>Colorado Springs</td>\n",
       "      <td>CO</td>\n",
       "      <td>Colorado Springs</td>\n",
       "      <td>El Paso</td>\n",
       "      <td>87700.0</td>\n",
       "      <td>88100.0</td>\n",
       "      <td>88500.0</td>\n",
       "      <td>88900.0</td>\n",
       "      <td>89400.0</td>\n",
       "      <td>...</td>\n",
       "      <td>227800</td>\n",
       "      <td>230600</td>\n",
       "      <td>233400</td>\n",
       "      <td>236100</td>\n",
       "      <td>238300</td>\n",
       "      <td>240700</td>\n",
       "      <td>243500</td>\n",
       "      <td>246300</td>\n",
       "      <td>249300</td>\n",
       "      <td>251200</td>\n",
       "    </tr>\n",
       "    <tr>\n",
       "      <th>6485</th>\n",
       "      <td>81321</td>\n",
       "      <td>Cortez</td>\n",
       "      <td>CO</td>\n",
       "      <td>NaN</td>\n",
       "      <td>Montezuma</td>\n",
       "      <td>75200.0</td>\n",
       "      <td>75200.0</td>\n",
       "      <td>75100.0</td>\n",
       "      <td>75100.0</td>\n",
       "      <td>75100.0</td>\n",
       "      <td>...</td>\n",
       "      <td>174400</td>\n",
       "      <td>174500</td>\n",
       "      <td>173000</td>\n",
       "      <td>171200</td>\n",
       "      <td>170600</td>\n",
       "      <td>171500</td>\n",
       "      <td>172800</td>\n",
       "      <td>172800</td>\n",
       "      <td>172600</td>\n",
       "      <td>172900</td>\n",
       "    </tr>\n",
       "    <tr>\n",
       "      <th>6536</th>\n",
       "      <td>81507</td>\n",
       "      <td>Grand Junction</td>\n",
       "      <td>CO</td>\n",
       "      <td>Grand Junction</td>\n",
       "      <td>Mesa</td>\n",
       "      <td>114400.0</td>\n",
       "      <td>115300.0</td>\n",
       "      <td>116300.0</td>\n",
       "      <td>117300.0</td>\n",
       "      <td>118200.0</td>\n",
       "      <td>...</td>\n",
       "      <td>330300</td>\n",
       "      <td>330200</td>\n",
       "      <td>330400</td>\n",
       "      <td>330500</td>\n",
       "      <td>330900</td>\n",
       "      <td>331800</td>\n",
       "      <td>332300</td>\n",
       "      <td>334300</td>\n",
       "      <td>339000</td>\n",
       "      <td>343200</td>\n",
       "    </tr>\n",
       "    <tr>\n",
       "      <th>6570</th>\n",
       "      <td>81521</td>\n",
       "      <td>Fruita</td>\n",
       "      <td>CO</td>\n",
       "      <td>Grand Junction</td>\n",
       "      <td>Mesa</td>\n",
       "      <td>90400.0</td>\n",
       "      <td>90300.0</td>\n",
       "      <td>90000.0</td>\n",
       "      <td>89400.0</td>\n",
       "      <td>88600.0</td>\n",
       "      <td>...</td>\n",
       "      <td>243600</td>\n",
       "      <td>245300</td>\n",
       "      <td>246900</td>\n",
       "      <td>248200</td>\n",
       "      <td>249800</td>\n",
       "      <td>251400</td>\n",
       "      <td>252000</td>\n",
       "      <td>253800</td>\n",
       "      <td>257500</td>\n",
       "      <td>260300</td>\n",
       "    </tr>\n",
       "    <tr>\n",
       "      <th>7009</th>\n",
       "      <td>81520</td>\n",
       "      <td>Clifton</td>\n",
       "      <td>CO</td>\n",
       "      <td>Grand Junction</td>\n",
       "      <td>Mesa</td>\n",
       "      <td>75900.0</td>\n",
       "      <td>76200.0</td>\n",
       "      <td>76500.0</td>\n",
       "      <td>76700.0</td>\n",
       "      <td>76900.0</td>\n",
       "      <td>...</td>\n",
       "      <td>160200</td>\n",
       "      <td>161000</td>\n",
       "      <td>161900</td>\n",
       "      <td>162600</td>\n",
       "      <td>163400</td>\n",
       "      <td>164100</td>\n",
       "      <td>164400</td>\n",
       "      <td>165600</td>\n",
       "      <td>168100</td>\n",
       "      <td>170100</td>\n",
       "    </tr>\n",
       "    <tr>\n",
       "      <th>7969</th>\n",
       "      <td>81505</td>\n",
       "      <td>Grand Junction</td>\n",
       "      <td>CO</td>\n",
       "      <td>Grand Junction</td>\n",
       "      <td>Mesa</td>\n",
       "      <td>111700.0</td>\n",
       "      <td>111400.0</td>\n",
       "      <td>110900.0</td>\n",
       "      <td>110300.0</td>\n",
       "      <td>109700.0</td>\n",
       "      <td>...</td>\n",
       "      <td>266900</td>\n",
       "      <td>269600</td>\n",
       "      <td>271600</td>\n",
       "      <td>272700</td>\n",
       "      <td>274000</td>\n",
       "      <td>275600</td>\n",
       "      <td>277500</td>\n",
       "      <td>279900</td>\n",
       "      <td>282800</td>\n",
       "      <td>284500</td>\n",
       "    </tr>\n",
       "  </tbody>\n",
       "</table>\n",
       "<p>14 rows × 270 columns</p>\n",
       "</div>"
      ],
      "text/plain": [
       "      RegionName              City State             Metro CountyName  \\\n",
       "1201       80011            Aurora    CO            Denver   Arapahoe   \n",
       "2330       80206            Denver    CO            Denver     Denver   \n",
       "2652       81301           Durango    CO           Durango   La Plata   \n",
       "3225       80302           Boulder    CO           Boulder    Boulder   \n",
       "3363       80303           Boulder    CO           Boulder    Boulder   \n",
       "3382       80301           Boulder    CO           Boulder    Boulder   \n",
       "4448       81501    Grand Junction    CO    Grand Junction       Mesa   \n",
       "4503       81401          Montrose    CO          Montrose   Montrose   \n",
       "6410       80903  Colorado Springs    CO  Colorado Springs    El Paso   \n",
       "6485       81321            Cortez    CO               NaN  Montezuma   \n",
       "6536       81507    Grand Junction    CO    Grand Junction       Mesa   \n",
       "6570       81521            Fruita    CO    Grand Junction       Mesa   \n",
       "7009       81520           Clifton    CO    Grand Junction       Mesa   \n",
       "7969       81505    Grand Junction    CO    Grand Junction       Mesa   \n",
       "\n",
       "       1996-04   1996-05   1996-06   1996-07   1996-08  ...  2017-07  2017-08  \\\n",
       "1201   90400.0   90600.0   90900.0   91100.0   91500.0  ...   269000   271900   \n",
       "2330  182300.0  183000.0  183900.0  185000.0  186300.0  ...   725400   725300   \n",
       "2652  153900.0  153100.0  152500.0  152000.0  151900.0  ...   445400   449700   \n",
       "3225  296600.0  295400.0  294100.0  292800.0  291600.0  ...   874100   877900   \n",
       "3363  231100.0  230300.0  229500.0  228700.0  228000.0  ...   710400   708000   \n",
       "3382  218000.0  217600.0  217200.0  216700.0  216200.0  ...   645000   646800   \n",
       "4448   74500.0   75100.0   75800.0   76400.0   76900.0  ...   175600   176700   \n",
       "4503   97800.0   97600.0   97200.0   96600.0   95900.0  ...   214300   215800   \n",
       "6410   87700.0   88100.0   88500.0   88900.0   89400.0  ...   227800   230600   \n",
       "6485   75200.0   75200.0   75100.0   75100.0   75100.0  ...   174400   174500   \n",
       "6536  114400.0  115300.0  116300.0  117300.0  118200.0  ...   330300   330200   \n",
       "6570   90400.0   90300.0   90000.0   89400.0   88600.0  ...   243600   245300   \n",
       "7009   75900.0   76200.0   76500.0   76700.0   76900.0  ...   160200   161000   \n",
       "7969  111700.0  111400.0  110900.0  110300.0  109700.0  ...   266900   269600   \n",
       "\n",
       "      2017-09  2017-10  2017-11  2017-12  2018-01  2018-02  2018-03  2018-04  \n",
       "1201   274900   277500   280300   283700   286400   289300   293400   296400  \n",
       "2330   726400   729700   733200   738700   744900   751900   759500   765600  \n",
       "2652   455000   456600   450300   453300   464200   463700   452500   449200  \n",
       "3225   881500   885800   888700   889400   890700   897100   908000   915100  \n",
       "3363   707300   711400   714700   715600   717300   724100   732800   737100  \n",
       "3382   648800   651000   653000   656400   660000   663600   668000   670700  \n",
       "4448   177600   178000   178800   179800   180500   182100   184700   186300  \n",
       "4503   217200   218000   218100   217100   216700   214700   209700   204800  \n",
       "6410   233400   236100   238300   240700   243500   246300   249300   251200  \n",
       "6485   173000   171200   170600   171500   172800   172800   172600   172900  \n",
       "6536   330400   330500   330900   331800   332300   334300   339000   343200  \n",
       "6570   246900   248200   249800   251400   252000   253800   257500   260300  \n",
       "7009   161900   162600   163400   164100   164400   165600   168100   170100  \n",
       "7969   271600   272700   274000   275600   277500   279900   282800   284500  \n",
       "\n",
       "[14 rows x 270 columns]"
      ]
     },
     "execution_count": 38,
     "metadata": {},
     "output_type": "execute_result"
    }
   ],
   "source": [
    "colorado = df.loc[(df[\"RegionName\"] == 81521) | (df[\"RegionName\"] == 81520) | (df[\"RegionName\"] == 81525) | \n",
    "                  (df[\"RegionName\"] == 81507) | (df[\"RegionName\"] == 81505) | (df[\"RegionName\"] == 81501) | \n",
    "                  (df[\"RegionName\"] == 81401) | (df[\"RegionName\"] == 81301) | (df[\"RegionName\"] == 81321) | \n",
    "                  (df[\"RegionName\"] == 80206) | (df[\"RegionName\"] == 80011) | (df[\"RegionName\"] == 80303) | \n",
    "                  (df[\"RegionName\"] == 80301) | (df[\"RegionName\"] == 80302) | (df[\"RegionName\"] == 80903)]\n",
    "\n",
    "colorado"
   ]
  },
  {
   "cell_type": "code",
   "execution_count": null,
   "metadata": {},
   "outputs": [],
   "source": [
    "#noteworthy = there's only 13 rows because Mack (presumably) had no data. not surprising. \n"
   ]
  },
  {
   "cell_type": "code",
   "execution_count": 43,
   "metadata": {},
   "outputs": [],
   "source": [
    "aurora = colorado.loc[colorado[\"RegionName\"] == 80011]\n",
    "denver = colorado.loc[colorado[\"RegionName\"] == 80206]\n",
    "durango = colorado.loc[colorado[\"RegionName\"] == 81301]\n",
    "boulder_1 = colorado.loc[colorado[\"RegionName\"] == 80301]\n",
    "boulder_2 = colorado.loc[colorado[\"RegionName\"] == 80302]\n",
    "boulder_3 = colorado.loc[colorado[\"RegionName\"] == 80303]\n",
    "grand_junction_1 = colorado.loc[colorado[\"RegionName\"] == 81501]\n",
    "montrose = colorado.loc[colorado[\"RegionName\"] == 81401]\n",
    "colorado_springs = colorado.loc[colorado[\"RegionName\"] == 80903]\n",
    "cortez = colorado.loc[colorado[\"RegionName\"] == 81321]\n",
    "grand_junction_2 = colorado.loc[colorado[\"RegionName\"] == 81507]\n",
    "fruita = colorado.loc[colorado[\"RegionName\"] == 81521]\n",
    "clifton = colorado.loc[colorado[\"RegionName\"] == 81520]\n",
    "grand_junction_3 = colorado.loc[colorado[\"RegionName\"] == 81505]"
   ]
  },
  {
   "cell_type": "code",
   "execution_count": null,
   "metadata": {},
   "outputs": [],
   "source": [
    "#i believe i need to run an arima for each and every one of these. hot damn. "
   ]
  },
  {
   "cell_type": "markdown",
   "metadata": {},
   "source": [
    "# Step 2: Data Preprocessing"
   ]
  },
  {
   "cell_type": "code",
   "execution_count": 19,
   "metadata": {},
   "outputs": [],
   "source": [
    "def get_datetimes(df):\n",
    "    return pd.to_datetime(df.columns.values[7:], format='%Y-%m')"
   ]
  },
  {
   "cell_type": "code",
   "execution_count": 136,
   "metadata": {},
   "outputs": [
    {
     "data": {
      "text/plain": [
       "DatetimeIndex(['1996-06-01', '1996-07-01', '1996-08-01', '1996-09-01',\n",
       "               '1996-10-01', '1996-11-01', '1996-12-01', '1997-01-01',\n",
       "               '1997-02-01', '1997-03-01',\n",
       "               ...\n",
       "               '2017-07-01', '2017-08-01', '2017-09-01', '2017-10-01',\n",
       "               '2017-11-01', '2017-12-01', '2018-01-01', '2018-02-01',\n",
       "               '2018-03-01', '2018-04-01'],\n",
       "              dtype='datetime64[ns]', length=263, freq=None)"
      ]
     },
     "execution_count": 136,
     "metadata": {},
     "output_type": "execute_result"
    }
   ],
   "source": [
    "get_datetimes(aurora)\n",
    "get_datetimes(denver)\n",
    "get_datetimes(durango)\n",
    "get_datetimes(boulder_1)\n",
    "get_datetimes(boulder_2)\n",
    "get_datetimes(boulder_3)\n",
    "get_datetimes(grand_junction_1)\n",
    "get_datetimes(montrose)\n",
    "get_datetimes(colorado_springs)\n",
    "get_datetimes(cortez)\n",
    "get_datetimes(grand_junction_2)\n",
    "get_datetimes(fruita)\n",
    "get_datetimes(clifton)\n",
    "get_datetimes(grand_junction_3)\n",
    "get_datetimes(colorado)"
   ]
  },
  {
   "cell_type": "code",
   "execution_count": null,
   "metadata": {},
   "outputs": [],
   "source": []
  },
  {
   "cell_type": "code",
   "execution_count": null,
   "metadata": {},
   "outputs": [],
   "source": []
  },
  {
   "cell_type": "code",
   "execution_count": null,
   "metadata": {},
   "outputs": [],
   "source": []
  },
  {
   "cell_type": "markdown",
   "metadata": {},
   "source": [
    "# Step 3: EDA and Visualization"
   ]
  },
  {
   "cell_type": "code",
   "execution_count": null,
   "metadata": {},
   "outputs": [],
   "source": [
    "font = {'family' : 'normal',\n",
    "        'weight' : 'bold',\n",
    "        'size'   : 22}\n",
    "\n",
    "matplotlib.rc('font', **font)\n",
    "\n",
    "# NOTE: if you visualizations are too cluttered to read, try calling 'plt.gcf().autofmt_xdate()'!\n"
   ]
  },
  {
   "cell_type": "code",
   "execution_count": null,
   "metadata": {},
   "outputs": [],
   "source": []
  },
  {
   "cell_type": "code",
   "execution_count": null,
   "metadata": {},
   "outputs": [],
   "source": []
  },
  {
   "cell_type": "markdown",
   "metadata": {},
   "source": [
    "# Step 4: Reshape from Wide to Long Format"
   ]
  },
  {
   "cell_type": "code",
   "execution_count": 28,
   "metadata": {},
   "outputs": [],
   "source": [
    "colorado.drop('RegionID', axis = 1, inplace = True)"
   ]
  },
  {
   "cell_type": "code",
   "execution_count": 27,
   "metadata": {},
   "outputs": [
    {
     "name": "stderr",
     "output_type": "stream",
     "text": [
      "C:\\Users\\kayce_000\\Anaconda3\\lib\\site-packages\\pandas\\core\\frame.py:3940: SettingWithCopyWarning: \n",
      "A value is trying to be set on a copy of a slice from a DataFrame\n",
      "\n",
      "See the caveats in the documentation: http://pandas.pydata.org/pandas-docs/stable/indexing.html#indexing-view-versus-copy\n",
      "  errors=errors)\n"
     ]
    }
   ],
   "source": [
    "colorado.drop('SizeRank', axis = 1, inplace = True)"
   ]
  },
  {
   "cell_type": "code",
   "execution_count": 61,
   "metadata": {},
   "outputs": [],
   "source": [
    "def melt_data(df):\n",
    "    melted = pd.melt(df, id_vars=['RegionName', 'City', 'State', 'Metro', 'CountyName'], var_name='time')\n",
    "    melted['time'] = pd.to_datetime(melted['time'], infer_datetime_format=True)\n",
    "    melted = melted.dropna(subset=['value'])\n",
    "    return melted.groupby('time').aggregate({'value':'mean'})\n"
   ]
  },
  {
   "cell_type": "code",
   "execution_count": 68,
   "metadata": {},
   "outputs": [],
   "source": [
    "melted_aurora = melt_data(aurora)\n",
    "melted_denver = melt_data(denver)\n",
    "melted_durango = melt_data(durango)\n",
    "melted_boulder_1 = melt_data(boulder_1)\n",
    "melted_boulder_2 = melt_data(boulder_2)\n",
    "melted_boulder_3 = melt_data(boulder_3)\n",
    "melted_grand_junction_1 = melt_data(grand_junction_1)\n",
    "melted_montrose = melt_data(montrose)\n",
    "melted_colorado_springs = melt_data(colorado_springs)\n",
    "melted_cortez = melt_data(cortez)\n",
    "melted_grand_junction_2 = melt_data(grand_junction_2)\n",
    "melted_fruita = melt_data(fruita)\n",
    "melted_clifton = melt_data(clifton)\n",
    "melted_grand_junction_3 = melt_data(grand_junction_3)"
   ]
  },
  {
   "cell_type": "code",
   "execution_count": 216,
   "metadata": {},
   "outputs": [
    {
     "data": {
      "text/plain": [
       "Text(0, 0.5, 'Avg Home Price')"
      ]
     },
     "execution_count": 216,
     "metadata": {},
     "output_type": "execute_result"
    },
    {
     "data": {
      "image/png": "[encoded data removed]",
      "text/plain": [
       "<Figure size 432x288 with 1 Axes>"
      ]
     },
     "metadata": {
      "needs_background": "light"
     },
     "output_type": "display_data"
    },
    {
     "data": {
      "image/png": "[encoded data removed]",
      "text/plain": [
       "<Figure size 432x288 with 1 Axes>"
      ]
     },
     "metadata": {
      "needs_background": "light"
     },
     "output_type": "display_data"
    },
    {
     "data": {
      "image/png": "[encoded data removed]",
      "text/plain": [
       "<Figure size 432x288 with 1 Axes>"
      ]
     },
     "metadata": {
      "needs_background": "light"
     },
     "output_type": "display_data"
    },
    {
     "data": {
      "image/png": "[encoded data removed]",
      "text/plain": [
       "<Figure size 432x288 with 1 Axes>"
      ]
     },
     "metadata": {
      "needs_background": "light"
     },
     "output_type": "display_data"
    },
    {
     "data": {
      "image/png": "[encoded data removed]",
      "text/plain": [
       "<Figure size 432x288 with 1 Axes>"
      ]
     },
     "metadata": {
      "needs_background": "light"
     },
     "output_type": "display_data"
    },
    {
     "data": {
      "image/png": "[encoded data removed]",
      "text/plain": [
       "<Figure size 432x288 with 1 Axes>"
      ]
     },
     "metadata": {
      "needs_background": "light"
     },
     "output_type": "display_data"
    },
    {
     "data": {
      "image/png": "[encoded data removed]",
      "text/plain": [
       "<Figure size 432x288 with 1 Axes>"
      ]
     },
     "metadata": {
      "needs_background": "light"
     },
     "output_type": "display_data"
    },
    {
     "data": {
      "image/png": "[encoded data removed]",
      "text/plain": [
       "<Figure size 432x288 with 1 Axes>"
      ]
     },
     "metadata": {
      "needs_background": "light"
     },
     "output_type": "display_data"
    },
    {
     "data": {
      "image/png": "[encoded data removed]",
      "text/plain": [
       "<Figure size 432x288 with 1 Axes>"
      ]
     },
     "metadata": {
      "needs_background": "light"
     },
     "output_type": "display_data"
    },
    {
     "data": {
      "image/png": "[encoded data removed]",
      "text/plain": [
       "<Figure size 432x288 with 1 Axes>"
      ]
     },
     "metadata": {
      "needs_background": "light"
     },
     "output_type": "display_data"
    },
    {
     "data": {
      "image/png": "[encoded data removed]",
      "text/plain": [
       "<Figure size 432x288 with 1 Axes>"
      ]
     },
     "metadata": {
      "needs_background": "light"
     },
     "output_type": "display_data"
    },
    {
     "data": {
      "image/png": "[encoded data removed]",
      "text/plain": [
       "<Figure size 432x288 with 1 Axes>"
      ]
     },
     "metadata": {
      "needs_background": "light"
     },
     "output_type": "display_data"
    },
    {
     "data": {
      "image/png": "[encoded data removed]",
      "text/plain": [
       "<Figure size 432x288 with 1 Axes>"
      ]
     },
     "metadata": {
      "needs_background": "light"
     },
     "output_type": "display_data"
    },
    {
     "data": {
      "image/png": "[encoded data removed]",
      "text/plain": [
       "<Figure size 432x288 with 1 Axes>"
      ]
     },
     "metadata": {
      "needs_background": "light"
     },
     "output_type": "display_data"
    }
   ],
   "source": [
    "melted_aurora.plot()\n",
    "plt.title(\"Aurora\")\n",
    "plt.xlabel(\"Year\")\n",
    "plt.ylabel(\"Avg Home Price\")\n",
    "\n",
    "melted_denver.plot()\n",
    "plt.title(\"Denver\")\n",
    "plt.xlabel(\"Year\")\n",
    "plt.ylabel(\"Avg Home Price\")\n",
    "\n",
    "melted_durango.plot()\n",
    "plt.title(\"Durango\")\n",
    "plt.xlabel(\"Year\")\n",
    "plt.ylabel(\"Avg Home Price\")\n",
    "\n",
    "melted_boulder_1.plot()\n",
    "plt.title(\"Boulder 1\")\n",
    "plt.xlabel(\"Year\")\n",
    "plt.ylabel(\"Avg Home Price\")\n",
    "\n",
    "melted_boulder_2.plot()\n",
    "plt.title(\"Boulder 2\")\n",
    "plt.xlabel(\"Year\")\n",
    "plt.ylabel(\"Avg Home Price\")\n",
    "\n",
    "melted_boulder_3.plot()\n",
    "plt.title(\"Boulder 3\")\n",
    "plt.xlabel(\"Year\")\n",
    "plt.ylabel(\"Avg Home Price\")\n",
    "\n",
    "melted_grand_junction_1.plot()\n",
    "plt.title(\"Grand Junction 1\")\n",
    "plt.xlabel(\"Year\")\n",
    "plt.ylabel(\"Avg Home Price\")\n",
    "\n",
    "melted_montrose.plot()\n",
    "plt.title(\"Montrose\")\n",
    "plt.xlabel(\"Year\")\n",
    "plt.ylabel(\"Avg Home Price\")\n",
    "\n",
    "melted_colorado_springs.plot()\n",
    "plt.title(\"Colorado Springs\")\n",
    "plt.xlabel(\"Year\")\n",
    "plt.ylabel(\"Avg Home Price\")\n",
    "\n",
    "melted_cortez.plot()\n",
    "plt.title(\"Cortez\")\n",
    "plt.xlabel(\"Year\")\n",
    "plt.ylabel(\"Avg Home Price\")\n",
    "\n",
    "melted_grand_junction_2.plot()\n",
    "plt.title(\"Grand Junction 2\")\n",
    "plt.xlabel(\"Year\")\n",
    "plt.ylabel(\"Avg Home Price\")\n",
    "\n",
    "melted_fruita.plot()\n",
    "plt.title(\"Fruita\")\n",
    "plt.xlabel(\"Year\")\n",
    "plt.ylabel(\"Avg Home Price\")\n",
    "\n",
    "melted_clifton.plot()\n",
    "plt.title(\"Clifton\")\n",
    "plt.xlabel(\"Year\")\n",
    "plt.ylabel(\"Avg Home Price\")\n",
    "\n",
    "melted_grand_junction_3.plot()\n",
    "plt.title(\"Grand Junction 3\")\n",
    "plt.xlabel(\"Year\")\n",
    "plt.ylabel(\"Avg Home Price\")"
   ]
  },
  {
   "cell_type": "code",
   "execution_count": null,
   "metadata": {},
   "outputs": [],
   "source": []
  },
  {
   "cell_type": "markdown",
   "metadata": {},
   "source": [
    "# Step 5: ARIMA Modeling"
   ]
  },
  {
   "cell_type": "code",
   "execution_count": 191,
   "metadata": {},
   "outputs": [],
   "source": [
    "#split into train and test\n",
    "aurora_train_size = int(len(melted_aurora)*.66)\n",
    "aurora_train, aurora_test = melted_aurora[0:aurora_train_size], melted_aurora[aurora_train_size:]"
   ]
  },
  {
   "cell_type": "code",
   "execution_count": 192,
   "metadata": {},
   "outputs": [],
   "source": [
    "denver_train_size = int(len(melted_denver)*.66)\n",
    "denver_train, denver_test = melted_denver[0:denver_train_size], melted_denver[denver_train_size:]"
   ]
  },
  {
   "cell_type": "code",
   "execution_count": 193,
   "metadata": {},
   "outputs": [],
   "source": [
    "durango_train_size = int(len(melted_durango)*.66)\n",
    "durango_train, durango_test = melted_durango[0:durango_train_size], melted_durango[durango_train_size:]"
   ]
  },
  {
   "cell_type": "code",
   "execution_count": 194,
   "metadata": {},
   "outputs": [],
   "source": [
    "boulder_1_train_size = int(len(melted_boulder_1)*.66)\n",
    "boulder_1_train, boulder_1_test = melted_boulder_1[0:boulder_1_train_size], melted_boulder_1[boulder_1_train_size:]"
   ]
  },
  {
   "cell_type": "code",
   "execution_count": 195,
   "metadata": {},
   "outputs": [],
   "source": [
    "boulder_2_train_size = int(len(melted_boulder_2)*.66)\n",
    "boulder_2_train, boulder_2_test = melted_boulder_2[0:boulder_2_train_size], melted_boulder_2[boulder_2_train_size:]"
   ]
  },
  {
   "cell_type": "code",
   "execution_count": 196,
   "metadata": {},
   "outputs": [],
   "source": [
    "boulder_3_train_size = int(len(melted_boulder_3)*.66)\n",
    "boulder_3_train, boulder_3_test = melted_boulder_3[0:boulder_3_train_size], melted_boulder_3[boulder_3_train_size:]"
   ]
  },
  {
   "cell_type": "code",
   "execution_count": 197,
   "metadata": {},
   "outputs": [],
   "source": [
    "grand_junction_1_train_size = int(len(melted_grand_junction_1)*.66)\n",
    "grand_junction_1_train, grand_junction_1_test = melted_grand_junction_1[0:grand_junction_1_train_size], melted_grand_junction_1[grand_junction_1_train_size:]"
   ]
  },
  {
   "cell_type": "code",
   "execution_count": 198,
   "metadata": {},
   "outputs": [],
   "source": [
    "montrose_train_size = int(len(melted_montrose)*.66)\n",
    "montrose_train, montrose_test = melted_montrose[0:montrose_train_size], melted_montrose[montrose_train_size:]"
   ]
  },
  {
   "cell_type": "code",
   "execution_count": 199,
   "metadata": {},
   "outputs": [],
   "source": [
    "colorado_springs_train_size = int(len(melted_aurora)*.66)\n",
    "colorado_springs_train, colorado_springs_test = melted_colorado_springs[0:colorado_springs_train_size], melted_colorado_springs[colorado_springs_train_size:]"
   ]
  },
  {
   "cell_type": "code",
   "execution_count": 200,
   "metadata": {},
   "outputs": [],
   "source": [
    "cortez_train_size = int(len(melted_cortez)*.66)\n",
    "cortez_train, cortez_test = melted_cortez[0:cortez_train_size], melted_cortez[cortez_train_size:]"
   ]
  },
  {
   "cell_type": "code",
   "execution_count": 201,
   "metadata": {},
   "outputs": [],
   "source": [
    "grand_junction_2_train_size = int(len(melted_grand_junction_2)*.66)\n",
    "grand_junction_2_train, grand_junction_2_test = melted_grand_junction_2[0:grand_junction_2_train_size], melted_grand_junction_2[grand_junction_2_train_size:]"
   ]
  },
  {
   "cell_type": "code",
   "execution_count": 202,
   "metadata": {},
   "outputs": [],
   "source": [
    "fruita_train_size = int(len(melted_fruita)*.66)\n",
    "fruita_train, fruita_test = melted_fruita[0:fruita_train_size], melted_fruita[fruita_train_size:]"
   ]
  },
  {
   "cell_type": "code",
   "execution_count": 203,
   "metadata": {},
   "outputs": [],
   "source": [
    "clifton_train_size = int(len(melted_clifton)*.66)\n",
    "clifton_train, clifton_test = melted_clifton[0:clifton_train_size], melted_clifton[clifton_train_size:]"
   ]
  },
  {
   "cell_type": "raw",
   "metadata": {},
   "source": [
    "grand_junction_3_train_size = int(len(melted_grand_junction_3)*.66)\n",
    "grand_junction_3_train, grand_junction_3_test = melted_grand_junction_3[0:grand_junction_3_train_size], melted_grand_junction_3[grand_junction_3_train_size:]"
   ]
  },
  {
   "cell_type": "markdown",
   "metadata": {},
   "source": [
    "# Run ARIMA predictions, determine proper order "
   ]
  },
  {
   "cell_type": "code",
   "execution_count": 175,
   "metadata": {},
   "outputs": [],
   "source": [
    "def arima(data, arima_order):\n",
    "    train_size = int(len(data)*.66)\n",
    "    train, test = data[0:train_size], data[train_size:]\n",
    "    history = [x for x in train]\n",
    "    \n",
    "    predictions = []\n",
    "    for x in range(len(test)):\n",
    "        model = ARIMA(len(test))\n",
    "        model_fit = model.fit(disp = 0)\n",
    "        yhat = model_fit.forecast()[0]\n",
    "        predictions.append(yhat)\n",
    "        history.append(test[x])\n",
    "    error = mean_squared_errror(test, predictions)\n",
    "    return error"
   ]
  },
  {
   "cell_type": "code",
   "execution_count": 176,
   "metadata": {},
   "outputs": [],
   "source": [
    "#run ARIMA order code\n",
    "def arima_order(dataset, p_values, d_values, q_values):\n",
    "    best_score, best_cfg = float('inf'), None\n",
    "    for p in p_values:\n",
    "        for d in d_values:\n",
    "            for q in q_values:\n",
    "                order = (p,d,q)\n",
    "                try:\n",
    "                    mse = arima(dataset, order)\n",
    "                    if mse < best_score:\n",
    "                        best_score, best_cfg = mse, order\n",
    "                    print('ARIMA%s MSE=%.3f' % (order,mse))\n",
    "                except: \n",
    "                    continue\n",
    "        print('Best ARIMA%s MSE=%.3f' % (best_cfg, best_score))\n",
    "    "
   ]
  },
  {
   "cell_type": "code",
   "execution_count": 218,
   "metadata": {},
   "outputs": [
    {
     "data": {
      "text/html": [
       "<div>\n",
       "<style scoped>\n",
       "    .dataframe tbody tr th:only-of-type {\n",
       "        vertical-align: middle;\n",
       "    }\n",
       "\n",
       "    .dataframe tbody tr th {\n",
       "        vertical-align: top;\n",
       "    }\n",
       "\n",
       "    .dataframe thead th {\n",
       "        text-align: right;\n",
       "    }\n",
       "</style>\n",
       "<table border=\"1\" class=\"dataframe\">\n",
       "  <thead>\n",
       "    <tr style=\"text-align: right;\">\n",
       "      <th></th>\n",
       "      <th>value</th>\n",
       "    </tr>\n",
       "    <tr>\n",
       "      <th>time</th>\n",
       "      <th></th>\n",
       "    </tr>\n",
       "  </thead>\n",
       "  <tbody>\n",
       "    <tr>\n",
       "      <th>2010-10-01</th>\n",
       "      <td>129800.0</td>\n",
       "    </tr>\n",
       "    <tr>\n",
       "      <th>2010-11-01</th>\n",
       "      <td>129000.0</td>\n",
       "    </tr>\n",
       "    <tr>\n",
       "      <th>2010-12-01</th>\n",
       "      <td>128100.0</td>\n",
       "    </tr>\n",
       "    <tr>\n",
       "      <th>2011-01-01</th>\n",
       "      <td>127000.0</td>\n",
       "    </tr>\n",
       "    <tr>\n",
       "      <th>2011-02-01</th>\n",
       "      <td>125900.0</td>\n",
       "    </tr>\n",
       "  </tbody>\n",
       "</table>\n",
       "</div>"
      ],
      "text/plain": [
       "               value\n",
       "time                \n",
       "2010-10-01  129800.0\n",
       "2010-11-01  129000.0\n",
       "2010-12-01  128100.0\n",
       "2011-01-01  127000.0\n",
       "2011-02-01  125900.0"
      ]
     },
     "execution_count": 218,
     "metadata": {},
     "output_type": "execute_result"
    }
   ],
   "source": [
    "aurora_test.head()"
   ]
  },
  {
   "cell_type": "code",
   "execution_count": 178,
   "metadata": {},
   "outputs": [],
   "source": [
    "p_values = [0,1,2,4,6,8,10]\n",
    "d_values = range(0,3)\n",
    "q_values = range(0,3)"
   ]
  },
  {
   "cell_type": "code",
   "execution_count": 183,
   "metadata": {},
   "outputs": [
    {
     "name": "stdout",
     "output_type": "stream",
     "text": [
      "Best ARIMANone MSE=inf\n",
      "Best ARIMANone MSE=inf\n",
      "Best ARIMANone MSE=inf\n",
      "Best ARIMANone MSE=inf\n",
      "Best ARIMANone MSE=inf\n",
      "Best ARIMANone MSE=inf\n",
      "Best ARIMANone MSE=inf\n"
     ]
    }
   ],
   "source": [
    "#run ARIMA\n",
    "import warnings\n",
    "warnings.filterwarnings(\"ignore\")\n",
    "arima_order(aurora_test, p_values, d_values, q_values)"
   ]
  },
  {
   "cell_type": "code",
   "execution_count": null,
   "metadata": {},
   "outputs": [],
   "source": [
    "#predictions\n",
    "arima(aurora_train, )"
   ]
  },
  {
   "cell_type": "code",
   "execution_count": null,
   "metadata": {},
   "outputs": [],
   "source": [
    "arima_order(denver_train)\n",
    "arima(denver_train)"
   ]
  },
  {
   "cell_type": "code",
   "execution_count": null,
   "metadata": {},
   "outputs": [],
   "source": [
    "arima_order(durango_train)\n",
    "arima(durango_train)"
   ]
  },
  {
   "cell_type": "code",
   "execution_count": null,
   "metadata": {},
   "outputs": [],
   "source": [
    "arima_order(boulder_1_train)\n",
    "arima(boulder_1_train)"
   ]
  },
  {
   "cell_type": "code",
   "execution_count": null,
   "metadata": {},
   "outputs": [],
   "source": [
    "arima_order(boulder_2_train)\n",
    "arima(boulder_2_train)"
   ]
  },
  {
   "cell_type": "code",
   "execution_count": null,
   "metadata": {},
   "outputs": [],
   "source": [
    "arima_order(boulder_3_train)\n",
    "arima(boulder_3_train)"
   ]
  },
  {
   "cell_type": "code",
   "execution_count": null,
   "metadata": {},
   "outputs": [],
   "source": [
    "arima_order(grand_junction_1_train)\n",
    "arima(grand_junction_1_train)"
   ]
  },
  {
   "cell_type": "code",
   "execution_count": null,
   "metadata": {},
   "outputs": [],
   "source": [
    "arima_order(montrose_train)\n",
    "arima(montrose_train)"
   ]
  },
  {
   "cell_type": "code",
   "execution_count": null,
   "metadata": {},
   "outputs": [],
   "source": [
    "arima_order(colorado_springs_train)\n",
    "arima(colorado_springs_train)"
   ]
  },
  {
   "cell_type": "code",
   "execution_count": null,
   "metadata": {},
   "outputs": [],
   "source": [
    "arima_order(cortez_train)\n",
    "arima(cortez_train)"
   ]
  },
  {
   "cell_type": "code",
   "execution_count": null,
   "metadata": {},
   "outputs": [],
   "source": [
    "arima_order(grand_junction_2_train)\n",
    "arima(grand_junction_2_train)"
   ]
  },
  {
   "cell_type": "code",
   "execution_count": null,
   "metadata": {},
   "outputs": [],
   "source": [
    "arima_order(fruita_train)\n",
    "arima(fruita_train)"
   ]
  },
  {
   "cell_type": "code",
   "execution_count": null,
   "metadata": {},
   "outputs": [],
   "source": [
    "arima_order(clifton_train)\n",
    "arima(clifton_train)"
   ]
  },
  {
   "cell_type": "code",
   "execution_count": null,
   "metadata": {},
   "outputs": [],
   "source": [
    "arima_order(grand_junction_3_train)\n",
    "arima(grand_junction_3_train)"
   ]
  },
  {
   "cell_type": "code",
   "execution_count": null,
   "metadata": {},
   "outputs": [],
   "source": [
    "#evaluate against test"
   ]
  },
  {
   "cell_type": "code",
   "execution_count": null,
   "metadata": {},
   "outputs": [],
   "source": [
    "#calculate ROI"
   ]
  },
  {
   "cell_type": "code",
   "execution_count": null,
   "metadata": {},
   "outputs": [],
   "source": [
    "#profit$$$"
   ]
  },
  {
   "cell_type": "code",
   "execution_count": null,
   "metadata": {},
   "outputs": [],
   "source": []
  },
  {
   "cell_type": "markdown",
   "metadata": {},
   "source": [
    "# Step 6: Interpreting Results"
   ]
  },
  {
   "cell_type": "code",
   "execution_count": null,
   "metadata": {},
   "outputs": [],
   "source": [
    "#look at prediction of home value, decide which will be best to invest in. \n",
    "#percent increase/decrease 5 years from now vs. today. "
   ]
  },
  {
   "cell_type": "code",
   "execution_count": null,
   "metadata": {},
   "outputs": [],
   "source": []
  },
  {
   "cell_type": "code",
   "execution_count": null,
   "metadata": {},
   "outputs": [],
   "source": []
  }
 ],
 "metadata": {
  "kernelspec": {
   "display_name": "Python 3",
   "language": "python",
   "name": "python3"
  },
  "language_info": {
   "codemirror_mode": {
    "name": "ipython",
    "version": 3
   },
   "file_extension": ".py",
   "mimetype": "text/x-python",
   "name": "python",
   "nbconvert_exporter": "python",
   "pygments_lexer": "ipython3",
   "version": "3.7.3"
  }
 },
 "nbformat": 4,
 "nbformat_minor": 2
}
